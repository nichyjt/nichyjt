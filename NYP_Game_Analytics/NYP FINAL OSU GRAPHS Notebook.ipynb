{
 "cells": [
  {
   "cell_type": "code",
   "execution_count": 44,
   "metadata": {
    "collapsed": true
   },
   "outputs": [],
   "source": [
    "import pandas as pd\n",
    "df = pd.read_csv(\"OSUDATA.csv\")\n",
    "import numpy as np\n",
    "import pylab as pl\n"
   ]
  },
  {
   "cell_type": "code",
   "execution_count": 1,
   "metadata": {
    "collapsed": true
   },
   "outputs": [],
   "source": [
    "import pandas as pd\n",
    "df = pd.read_csv(\"OSUDATA2.csv\")\n",
    "import numpy as np\n",
    "import pylab as pl"
   ]
  },
  {
   "cell_type": "code",
   "execution_count": null,
   "metadata": {
    "collapsed": false
   },
   "outputs": [],
   "source": [
    "\"\"\"PP to Inactive\"\"\"\n",
    "\n",
    "\n",
    "R = df.Rank\n",
    "\n",
    "NR = df.NationalRank\n",
    "ACC= df.Hitaccuracy\n",
    "TS = df.TotalScore\n",
    "RS = df.RankedScore\n",
    "TH = df.Totalhits\n",
    "PP = df.PP\n",
    "MC = df.MAXCombo\n",
    "PC = df.PlayCount\n",
    "LVL = df.Level\n",
    "IA = df.Inactive\n",
    "MP = df.MostPlays \n",
    "PT= df.PlayTime\n",
    "SS = df.SS\n",
    "S = df.S\n",
    "A = df.A\n",
    "\n",
    "\n",
    "x = [PP]\n",
    "y = [IA]\n",
    "pl.plot(x, y, 'ro')\n",
    "pl.xlabel('Performance Points')\n",
    "pl.ylabel('Inactive (Months)')\n",
    "pl.show()\n",
    "\n",
    "#0-4kpp = Most unretention | 4-5kpp = obvious less retention | >5k pp players mostly active. So what's the diff between >5k vs <5k Players?"
   ]
  },
  {
   "cell_type": "code",
   "execution_count": 1,
   "metadata": {
    "collapsed": true
   },
   "outputs": [],
   "source": [
    "import pandas as pd\n",
    "df = pd.read_csv(\"OSUDATA3.csv\")\n",
    "import numpy as np\n",
    "import pylab as pl\n",
    "\n",
    "TS = df.TotalScore\n",
    "RS = df.RankedScore\n",
    "IA = df.Inactive\n",
    "PP = df.PP\n",
    "\n",
    "x = [PP]\n",
    "y = [IA]\n",
    "pl.plot(x, y, 'ro')\n",
    "pl.xlabel('Performance Points')\n",
    "pl.ylabel('Inactive (Days)')\n",
    "pl.show()\n"
   ]
  },
  {
   "cell_type": "code",
   "execution_count": 3,
   "metadata": {
    "collapsed": false
   },
   "outputs": [
    {
     "ename": "AttributeError",
     "evalue": "'DataFrame' object has no attribute 'Rank'",
     "output_type": "error",
     "traceback": [
      "\u001b[1;31m---------------------------------------------------------------------------\u001b[0m",
      "\u001b[1;31mAttributeError\u001b[0m                            Traceback (most recent call last)",
      "\u001b[1;32m<ipython-input-3-10dea9946834>\u001b[0m in \u001b[0;36m<module>\u001b[1;34m()\u001b[0m\n\u001b[0;32m      2\u001b[0m \u001b[1;33m\u001b[0m\u001b[0m\n\u001b[0;32m      3\u001b[0m \u001b[1;33m\u001b[0m\u001b[0m\n\u001b[1;32m----> 4\u001b[1;33m \u001b[0mR\u001b[0m \u001b[1;33m=\u001b[0m \u001b[0mdf\u001b[0m\u001b[1;33m.\u001b[0m\u001b[0mRank\u001b[0m\u001b[1;33m\u001b[0m\u001b[0m\n\u001b[0m\u001b[0;32m      5\u001b[0m \u001b[0mNR\u001b[0m \u001b[1;33m=\u001b[0m \u001b[0mdf\u001b[0m\u001b[1;33m.\u001b[0m\u001b[0mNationalRank\u001b[0m\u001b[1;33m\u001b[0m\u001b[0m\n\u001b[0;32m      6\u001b[0m \u001b[0mACC\u001b[0m\u001b[1;33m=\u001b[0m \u001b[0mdf\u001b[0m\u001b[1;33m.\u001b[0m\u001b[0mHitaccuracy\u001b[0m\u001b[1;33m\u001b[0m\u001b[0m\n",
      "\u001b[1;32mC:\\Users\\NicholasJT\\Anaconda3\\lib\\site-packages\\pandas\\core\\generic.py\u001b[0m in \u001b[0;36m__getattr__\u001b[1;34m(self, name)\u001b[0m\n\u001b[0;32m   2244\u001b[0m                 \u001b[1;32mreturn\u001b[0m \u001b[0mself\u001b[0m\u001b[1;33m[\u001b[0m\u001b[0mname\u001b[0m\u001b[1;33m]\u001b[0m\u001b[1;33m\u001b[0m\u001b[0m\n\u001b[0;32m   2245\u001b[0m             raise AttributeError(\"'%s' object has no attribute '%s'\" %\n\u001b[1;32m-> 2246\u001b[1;33m                                  (type(self).__name__, name))\n\u001b[0m\u001b[0;32m   2247\u001b[0m \u001b[1;33m\u001b[0m\u001b[0m\n\u001b[0;32m   2248\u001b[0m     \u001b[1;32mdef\u001b[0m \u001b[0m__setattr__\u001b[0m\u001b[1;33m(\u001b[0m\u001b[0mself\u001b[0m\u001b[1;33m,\u001b[0m \u001b[0mname\u001b[0m\u001b[1;33m,\u001b[0m \u001b[0mvalue\u001b[0m\u001b[1;33m)\u001b[0m\u001b[1;33m:\u001b[0m\u001b[1;33m\u001b[0m\u001b[0m\n",
      "\u001b[1;31mAttributeError\u001b[0m: 'DataFrame' object has no attribute 'Rank'"
     ]
    }
   ],
   "source": [
    "\"\"\"Patience Vector\"\"\"\n",
    "\n",
    "\n",
    "R = df.Rank\n",
    "NR = df.NationalRank\n",
    "ACC= df.Hitaccuracy\n",
    "TS = df.TotalScore\n",
    "RS = df.RankedScore\n",
    "TH = df.Totalhits\n",
    "PP = df.PP\n",
    "MC = df.MAXCombo\n",
    "PC = df.PlayCount\n",
    "LVL = df.Level\n",
    "IA = df.Inactive\n",
    "MP = df.MostPlays \n",
    "PT= df.PlayTime\n",
    "SS = df.SS\n",
    "S = df.S\n",
    "A = df.A\n",
    "\n",
    "DIFF= TS-RS\n",
    "\n",
    "x = [PP]\n",
    "y = [DIFF]\n",
    "pl.plot(x, y, 'ro')\n",
    "pl.xlabel('Performance Points')\n",
    "\n",
    "pl.ylabel('Difference (Total score-Ranked score)')\n",
    "pl.show()\n",
    "\n",
    "#High DIFF value means that the ratio btwn EVERY HIT to RANKED HITS is high, means that player does not give up easily on average"
   ]
  },
  {
   "cell_type": "code",
   "execution_count": 37,
   "metadata": {
    "collapsed": true
   },
   "outputs": [],
   "source": [
    "\"\"\"Further proving 0.5*10^11 Diff is cut off point for retention\"\"\"\n",
    "\n",
    "R = df.Rank\n",
    "NR = df.NationalRank\n",
    "ACC= df.Hitaccuracy\n",
    "TS = df.TotalScore\n",
    "RS = df.RankedScore\n",
    "TH = df.Totalhits\n",
    "PP = df.PP\n",
    "MC = df.MAXCombo\n",
    "PC = df.PlayCount\n",
    "LVL = df.Level\n",
    "IA = df.Inactive\n",
    "MP = df.MostPlays \n",
    "PT= df.PlayTime\n",
    "SS = df.SS\n",
    "S = df.S\n",
    "A = df.A\n",
    "\n",
    "DIFF= TS-RS\n",
    "\n",
    "x = [IA]\n",
    "y = [DIFF]\n",
    "pl.plot(x, y, 'ro')\n",
    "pl.xlabel('Inactive')\n",
    "pl.ylabel('Difference')\n",
    "pl.show()"
   ]
  },
  {
   "cell_type": "code",
   "execution_count": 38,
   "metadata": {
    "collapsed": false
   },
   "outputs": [],
   "source": [
    "\"\"\"Long membership !== retention \"\"\"\n",
    "\n",
    "R = df.Rank\n",
    "NR = df.NationalRank\n",
    "ACC= df.Hitaccuracy\n",
    "TS = df.TotalScore\n",
    "RS = df.RankedScore\n",
    "TH = df.Totalhits\n",
    "PP = df.PP\n",
    "MC = df.MAXCombo\n",
    "PC = df.PlayCount\n",
    "LVL = df.Level\n",
    "IA = df.Inactive\n",
    "MP = df.MostPlays \n",
    "PT= df.PlayTime\n",
    "SS = df.SS\n",
    "S = df.S\n",
    "A = df.A\n",
    "\n",
    "\n",
    "x = [PT]\n",
    "y = [IA]\n",
    "pl.plot(x, y, 'ro')\n",
    "pl.xlabel('Play Time (From Joined Osu month to Last Play\\'s month)')\n",
    "pl.ylabel('Inactive (Months)')\n",
    "pl.show()"
   ]
  },
  {
   "cell_type": "code",
   "execution_count": 7,
   "metadata": {
    "collapsed": true
   },
   "outputs": [],
   "source": [
    "\"\"\"More ranks does not mean higher PP \"\"\"\n",
    "\n",
    "R = df.Rank\n",
    "NR = df.NationalRank\n",
    "ACC= df.Hitaccuracy\n",
    "TS = df.TotalScore\n",
    "RS = df.RankedScore\n",
    "TH = df.Totalhits\n",
    "PP = df.PP\n",
    "MC = df.MAXCombo\n",
    "PC = df.PlayCount\n",
    "LVL = df.Level\n",
    "IA = df.Inactive\n",
    "MP = df.MostPlays \n",
    "PT= df.PlayTime\n",
    "SS = df.SS\n",
    "S = df.S\n",
    "A = df.A\n",
    "\n",
    "TSA = SS+S+A\n",
    "\n",
    "x = [DIFF]\n",
    "y = [TSA]\n",
    "pl.plot(x, y, 'ro')\n",
    "pl.xlabel('Performance Points')\n",
    "pl.ylabel('Total Number of Ranks (SS S A)')\n",
    "pl.show()"
   ]
  },
  {
   "cell_type": "code",
   "execution_count": 99,
   "metadata": {
    "collapsed": false
   },
   "outputs": [],
   "source": [
    "\"\"\"Patience vector 2\"\"\"\n",
    "\n",
    "df = pd.read_csv(\"OSUDATA.csv\")\n",
    "\n",
    "R = df.Rank\n",
    "NR = df.NationalRank\n",
    "ACC= df.Hitaccuracy\n",
    "TS = df.TotalScore\n",
    "RS = df.RankedScore\n",
    "TH = df.Totalhits\n",
    "PP = df.PP\n",
    "MC = df.MAXCombo\n",
    "PC = df.PlayCount\n",
    "LVL = df.Level\n",
    "IA = df.Inactive\n",
    "MP = df.MostPlays \n",
    "PT= df.PlayTime\n",
    "SS = df.SS\n",
    "S = df.S\n",
    "A = df.A\n",
    "\n",
    "\n",
    "x = [PP]\n",
    "y = [DIFF]\n",
    "pl.plot(x, y, 'ro')\n",
    "pl.xlabel('PP')\n",
    "pl.ylabel('DIFF')\n",
    "pl.show()\n",
    "\n",
    "df = pd.read_csv(\"OSUDATA2.csv\")\n",
    "R = df.Rank\n",
    "NR = df.NationalRank\n",
    "ACC= df.Hitaccuracy\n",
    "TS = df.TotalScore\n",
    "RS = df.RankedScore\n",
    "TH = df.Totalhits\n",
    "PP = df.PP\n",
    "MC = df.MAXCombo\n",
    "PC = df.PlayCount\n",
    "LVL = df.Level\n",
    "IA = df.Inactive\n",
    "MP = df.MostPlays \n",
    "PT= df.PlayTime\n",
    "SS = df.SS\n",
    "S = df.S\n",
    "A = df.A\n",
    "\n",
    "x = [PP]\n",
    "y = [DIFF]\n",
    "pl.plot(x, y, 'bo')\n",
    "pl.xlabel('PP')\n",
    "pl.ylabel('DIFF')\n",
    "pl.show()\n"
   ]
  },
  {
   "cell_type": "code",
   "execution_count": 39,
   "metadata": {
    "collapsed": false
   },
   "outputs": [],
   "source": [
    "\"\"\"Max Combo to PP\"\"\"\n",
    "R = df.Rank\n",
    "NR = df.NationalRank\n",
    "ACC= df.Hitaccuracy\n",
    "TS = df.TotalScore\n",
    "RS = df.RankedScore\n",
    "TH = df.Totalhits\n",
    "PP = df.PP\n",
    "MC = df.MAXCombo\n",
    "PC = df.PlayCount\n",
    "LVL = df.Level\n",
    "IA = df.Inactive\n",
    "MP = df.MostPlays \n",
    "PT= df.PlayTime\n",
    "SS = df.SS\n",
    "S = df.S\n",
    "A = df.A\n",
    "\n",
    "x = [PP]\n",
    "y = [MC]\n",
    "pl.plot(x, y, 'ro')\n",
    "pl.xlabel('Performance Points')\n",
    "pl.ylabel('Max Combo')\n",
    "pl.show()\n",
    "\n",
    "\n",
    "#Max Combo 3k cut off point"
   ]
  },
  {
   "cell_type": "code",
   "execution_count": 3,
   "metadata": {
    "collapsed": false
   },
   "outputs": [],
   "source": [
    "R = df.Rank\n",
    "NR = df.NationalRank\n",
    "ACC= df.Hitaccuracy\n",
    "TS = df.TotalScore\n",
    "RS = df.RankedScore\n",
    "TH = df.Totalhits\n",
    "PP = df.PP\n",
    "MC = df.MAXCombo\n",
    "PC = df.PlayCount\n",
    "LVL = df.Level\n",
    "IA = df.Inactive\n",
    "MP = df.MostPlays \n",
    "PT= df.PlayTime\n",
    "SS = df.SS\n",
    "S = df.S\n",
    "A = df.A\n",
    "\n",
    "x = [-R]\n",
    "y = [PP]\n",
    "pl.plot(x, y, 'ro')\n",
    "pl.xlabel('')\n",
    "pl.ylabel('')\n",
    "pl.show()\n",
    "\n"
   ]
  },
  {
   "cell_type": "code",
   "execution_count": 14,
   "metadata": {
    "collapsed": false
   },
   "outputs": [],
   "source": [
    "\"\"\"OSUDATA 3\"\"\"\n",
    "import pandas as pd\n",
    "df = pd.read_csv(\"OSUDATA3.csv\")\n",
    "import numpy as np\n",
    "import pylab as pl\n",
    "\n",
    "TS = df.TotalScore\n",
    "RS = df.RankedScore\n",
    "IA = df.Inactive\n",
    "PP = df.PP\n",
    "\n",
    "DIFF = TS-RS\n",
    "RATIO = TS/RS\n",
    "\n",
    "x = [PP]\n",
    "y = [DIFF]\n",
    "pl.plot(x, y, 'ro')\n",
    "pl.xlabel('Performance Points')\n",
    "pl.ylabel('Difference (Total score-Ranked score)')\n",
    "pl.show()"
   ]
  },
  {
   "cell_type": "code",
   "execution_count": 23,
   "metadata": {
    "collapsed": false
   },
   "outputs": [],
   "source": [
    "import pandas as pd\n",
    "df = pd.read_csv(\"OSUDATA3.csv\")\n",
    "import numpy as np\n",
    "import pylab as pl\n",
    "\n",
    "TS = df.TotalScore\n",
    "RS = df.RankedScore\n",
    "IA = df.Inactive\n",
    "PP = df.PP\n",
    "\n",
    "DIFF = TS-RS\n",
    "\n",
    "color = dict(boxes='Black', whiskers='Blue', medians='Red', caps='Gray')\n",
    "\n",
    "\n",
    "x = [PP]\n",
    "y = [IA]\n",
    "PP.plot(kind='box', color=color)\n",
    "pl.show()"
   ]
  },
  {
   "cell_type": "code",
   "execution_count": 3,
   "metadata": {
    "collapsed": true
   },
   "outputs": [],
   "source": [
    "import pandas as pd\n",
    "df = pd.read_csv(\"OSUDATAMETA.csv\")\n",
    "import numpy as np\n",
    "import pylab as pl\n",
    "\n",
    "TS = df.TotalScore\n",
    "RS = df.RankedScore\n",
    "PP = df.PP\n",
    "\n",
    "DIFF = TS-RS\n",
    "RATIO = TS/RS\n",
    "\n",
    "x = [PP]\n",
    "y = [DIFF]\n",
    "pl.plot(x, y, 'ro')\n",
    "pl.xlabel('Performance Points')\n",
    "pl.ylabel('Difference (Total score-Ranked score)')\n",
    "pl.show()"
   ]
  }
 ],
 "metadata": {
  "kernelspec": {
   "display_name": "Python 3",
   "language": "python",
   "name": "python3"
  },
  "language_info": {
   "codemirror_mode": {
    "name": "ipython",
    "version": 3
   },
   "file_extension": ".py",
   "mimetype": "text/x-python",
   "name": "python",
   "nbconvert_exporter": "python",
   "pygments_lexer": "ipython3",
   "version": "3.5.0"
  }
 },
 "nbformat": 4,
 "nbformat_minor": 0
}
