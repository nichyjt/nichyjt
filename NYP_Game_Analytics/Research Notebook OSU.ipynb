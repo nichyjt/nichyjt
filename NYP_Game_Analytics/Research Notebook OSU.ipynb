{
 "cells": [
  {
   "cell_type": "code",
   "execution_count": 18,
   "metadata": {
    "collapsed": false
   },
   "outputs": [
    {
     "name": "stdout",
     "output_type": "stream",
     "text": [
      "Eggs, Chicken, Milk\n",
      "20\n",
      "8000000\n",
      "9\n"
     ]
    }
   ],
   "source": [
    "#VARIABLES AND PRINTING\n",
    "\n",
    "# The '#' makes whatever in this line after the # sign to be skipped by the software.\n",
    "# This 'In'  Cell will be a guide and tutorial.\n",
    "variable = 'Variable Contents' #You can set variables to be anything, like a set, X = [contents].\n",
    "var2= 5*4 # Here, var2 = 20\n",
    "shopping_list = 'Eggs, Chicken, Milk' # another example\n",
    "print(shopping_list)\n",
    "print(var2) #print () prints out the results.\n",
    "\n",
    "#MORE VARIABLES\n",
    "#You can play around with variables to get more complex results for the research. Eg...\n",
    "RankedScore=1000000\n",
    "TotalScore=9000000\n",
    "Difference= TotalScore - RankedScore #Basically 9000000-1000000\n",
    "print (Difference) \n",
    "#Overriding variables. Eg:\n",
    "RankedScore = 9\n",
    "print(RankedScore) #RankedScore is now no longer 1000000, overriden by 9\n",
    "\n",
    "#MATH FUNCTIONS + - * / <--Standard... 2**3 (2 cubed) 5%2 (% takes the Remainder of 5/2, 1)"
   ]
  },
  {
   "cell_type": "code",
   "execution_count": 3,
   "metadata": {
    "collapsed": false
   },
   "outputs": [],
   "source": [
    "#SCATTER GRAPH\n",
    "\n",
    "#Importing pandas library\n",
    "import pandas as pd\n",
    "df = pd.read_csv(\"OSUDATA.csv\")\n",
    "#Above is the code to extract the data from thhe .csv file we got\n",
    "R = df.Rank\n",
    "NR = df.NationalRank\n",
    "ACC= df.Hitaccuracy\n",
    "TS = df.TotalScore\n",
    "RS = df.RankedScore\n",
    "TH = df.Totalhits\n",
    "PP = df.PP\n",
    "MC = df.MAXCombo\n",
    "PC = df.PlayCount\n",
    "LVL = df.Level\n",
    "IA = df.Inactive\n",
    "MP = df.MostPlays \n",
    "PT= df.PlayTime\n",
    "SS = df.SS\n",
    "S = df.S\n",
    "A = df.A\n",
    "\n",
    "TSA = SS + S + A\n",
    "DIFF = TS - RS\n",
    "\n",
    "\n",
    "\n",
    "#Graphing code below\n",
    "import numpy as np\n",
    "import pylab as pl\n",
    "\n",
    "x = [DIFF]\n",
    "y = [IA]\n",
    "\n",
    "pl.plot(x, y, 'ro')\n",
    "# show the plot on the screen\n",
    "# Edit labels as necessary, eg PP as X label, Rank as Y Label\n",
    "pl.xlabel('xlabel')\n",
    "pl.ylabel('ylabel')\n",
    "pl.show()\n",
    "#Diff < 1 lell (Difference) more likely to be unretained"
   ]
  },
  {
   "cell_type": "code",
   "execution_count": 7,
   "metadata": {
    "collapsed": false
   },
   "outputs": [],
   "source": [
    "import pandas as pd\n",
    "df = pd.read_csv(\"OSUDATA.csv\")\n",
    "#Above is the code to extract the data from thhe .csv file we got\n",
    "R = df.Rank\n",
    "NR = df.NationalRank\n",
    "ACC= df.Hitaccuracy\n",
    "TS = df.TotalScore\n",
    "RS = df.RankedScore\n",
    "TH = df.Totalhits\n",
    "PP = df.PP\n",
    "MC = df.MAXCombo\n",
    "PC = df.PlayCount\n",
    "LVL = df.Level\n",
    "IA = df.Inactive\n",
    "MP = df.MostPlays \n",
    "PT= df.PlayTime\n",
    "SS = df.SS\n",
    "S = df.S\n",
    "A = df.A\n",
    "\n",
    "\n",
    "DIFF = TS - RS\n",
    "x = [DIFF]\n",
    "y = [IA]\n",
    "\n",
    "pl.plot(x, y, 'ro')\n",
    "# show the plot on the screen\n",
    "# Edit labels as necessary, eg PP as X label, Rank as Y Label\n",
    "pl.xlabel('xlabel')\n",
    "pl.ylabel('ylabel')\n",
    "pl.show()\n",
    "#Middle Class to High players are not retained (near 0 area). Why?"
   ]
  },
  {
   "cell_type": "code",
   "execution_count": 5,
   "metadata": {
    "collapsed": false
   },
   "outputs": [],
   "source": [
    "import pandas as pd\n",
    "df = pd.read_csv(\"OSUDATA2.csv\")\n",
    "#Above is the code to extract the data from thhe .csv file we got\n",
    "R = df.Rank\n",
    "NR = df.NationalRank\n",
    "ACC= df.Hitaccuracy\n",
    "TS = df.TotalScore\n",
    "RS = df.RankedScore\n",
    "TH = df.Totalhits\n",
    "PP = df.PP\n",
    "MC = df.MAXCombo\n",
    "PC = df.PlayCount\n",
    "LVL = df.Level\n",
    "IA = df.Inactive\n",
    "MP = df.MostPlays \n",
    "PT= df.PlayTime\n",
    "SS = df.SS\n",
    "S = df.S\n",
    "A = df.A\n",
    "\n",
    "\n",
    "DIFF = TS - RS\n",
    "x = [PP]\n",
    "y = [IA]\n",
    "\n",
    "pl.plot(x, y, 'ro')\n",
    "# show the plot on the screen\n",
    "# Edit labels as necessary, eg PP as X label, Rank as Y Label\n",
    "pl.xlabel('Performance Points')\n",
    "pl.ylabel('Inactive (Months)')\n",
    "pl.show()\n",
    "#5.5k PP = More retention"
   ]
  },
  {
   "cell_type": "code",
   "execution_count": 5,
   "metadata": {
    "collapsed": false
   },
   "outputs": [],
   "source": [
    "import pandas as pd\n",
    "df = pd.read_csv(\"OSUDATA2.csv\")\n",
    "#Above is the code to extract the data from thhe .csv file we got\n",
    "R = df.Rank\n",
    "NR = df.NationalRank\n",
    "ACC= df.Hitaccuracy\n",
    "TS = df.TotalScore\n",
    "RS = df.RankedScore\n",
    "TH = df.Totalhits\n",
    "PP = df.PP\n",
    "MC = df.MAXCombo\n",
    "PC = df.PlayCount\n",
    "LVL = df.Level\n",
    "IA = df.Inactive\n",
    "MP = df.MostPlays \n",
    "PT= df.PlayTime\n",
    "SS = df.SS\n",
    "S = df.S\n",
    "A = df.A\n",
    "\n",
    "\n",
    "DIFF = TS - RS\n",
    "x = [-R]\n",
    "y = [PP]\n",
    "\n",
    "pl.plot(x, y, 'ro')\n",
    "# show the plot on the screen\n",
    "# Edit labels as necessary, eg PP as X label, Rank as Y Label\n",
    "pl.xlabel('Performance Points')\n",
    "pl.ylabel('Inactive (Months)')\n",
    "pl.show()\n",
    "#5.5k PP = More retention"
   ]
  },
  {
   "cell_type": "code",
   "execution_count": 15,
   "metadata": {
    "collapsed": false
   },
   "outputs": [],
   "source": [
    "x=[TS]\n",
    "y=[IA]\n",
    "pl.plot(x, y, 'ro')\n",
    "# show the plot on the screen\n",
    "# Edit labels as necessary, eg PP as X label, Rank as Y Label\n",
    "pl.xlabel('xlabel')\n",
    "pl.ylabel('ylabel')\n",
    "pl.show()\n",
    "#"
   ]
  },
  {
   "cell_type": "code",
   "execution_count": 16,
   "metadata": {
    "collapsed": false
   },
   "outputs": [],
   "source": [
    "x=[PP]\n",
    "y=[PC]\n",
    "pl.plot(x, y, 'ro')\n",
    "# show the plot on the screen\n",
    "# Edit labels as necessary, eg PP as X label, Rank as Y Label\n",
    "pl.xlabel('xlabel')\n",
    "pl.ylabel('ylabel')\n",
    "pl.show()\n",
    "\n",
    "#ETC"
   ]
  },
  {
   "cell_type": "code",
   "execution_count": 17,
   "metadata": {
    "collapsed": true
   },
   "outputs": [],
   "source": [
    "import pandas as pd\n",
    "df = pd.read_csv(\"OSUDATA.csv\")\n",
    "#Above is the code to extract the data from thhe .csv file we got\n",
    "R = df.Rank\n",
    "NR = df.NationalRank\n",
    "ACC= df.Hitaccuracy\n",
    "TS = df.TotalScore\n",
    "RS = df.RankedScore\n",
    "TH = df.Totalhits\n",
    "PP = df.PP\n",
    "MC = df.MAXCombo\n",
    "PC = df.PlayCount\n",
    "LVL = df.Level\n",
    "IA = df.Inactive\n",
    "MP = df.MostPlays \n",
    "PT= df.PlayTime\n",
    "SS = df.SS\n",
    "S = df.S\n",
    "A = df.A\n",
    "\n",
    "\n",
    "DIFF = TS - RS\n",
    "x = [PP]\n",
    "y = [TS]\n",
    "\n",
    "pl.plot(x, y, 'ro')\n",
    "# show the plot on the screen\n",
    "# Edit labels as necessary, eg PP as X label, Rank as Y Label\n",
    "pl.xlabel('xlabel')\n",
    "pl.ylabel('ylabel')\n",
    "pl.show()\n",
    "\n",
    "#PP to Total score"
   ]
  },
  {
   "cell_type": "code",
   "execution_count": 26,
   "metadata": {
    "collapsed": true
   },
   "outputs": [],
   "source": [
    "DIFF = TS - RS\n",
    "x = [PP]\n",
    "y = [RS]\n",
    "\n",
    "pl.plot(x, y, 'ro')\n",
    "# show the plot on the screen\n",
    "# Edit labels as necessary, eg PP as X label, Rank as Y Label\n",
    "pl.xlabel('xlabel')\n",
    "pl.ylabel('ylabel')\n",
    "pl.show()\n"
   ]
  },
  {
   "cell_type": "code",
   "execution_count": 25,
   "metadata": {
    "collapsed": true
   },
   "outputs": [],
   "source": [
    "DIFF = TS - RS\n",
    "x = [PP]\n",
    "y = [MC]\n",
    "\n",
    "pl.plot(x, y, 'ro')\n",
    "# show the plot on the screen\n",
    "# Edit labels as necessary, eg PP as X label, Rank as Y Label\n",
    "pl.xlabel('xlabel')\n",
    "pl.ylabel('ylabel')\n",
    "pl.show()"
   ]
  },
  {
   "cell_type": "code",
   "execution_count": 26,
   "metadata": {
    "collapsed": true
   },
   "outputs": [],
   "source": [
    "import pandas as pd\n",
    "df = pd.read_csv(\"OSUDATA.csv\")\n",
    "#Above is the code to extract the data from thhe .csv file we got\n",
    "R = df.Rank\n",
    "NR = df.NationalRank\n",
    "ACC= df.Hitaccuracy\n",
    "TS = df.TotalScore\n",
    "RS = df.RankedScore\n",
    "TH = df.Totalhits\n",
    "PP = df.PP\n",
    "MC = df.MAXCombo\n",
    "PC = df.PlayCount\n",
    "LVL = df.Level\n",
    "IA = df.Inactive\n",
    "MP = df.MostPlays \n",
    "PT= df.PlayTime\n",
    "SS = df.SS\n",
    "S = df.S\n",
    "A = df.A\n",
    "\n",
    "\n",
    "DIFF = TS - RS\n",
    "x = [PP]\n",
    "y = [DIFF]\n",
    "\n",
    "pl.plot(x, y, 'ro')\n",
    "# show the plot on the screen\n",
    "# Edit labels as necessary, eg PP as X label, Rank as Y Label\n",
    "pl.xlabel('xlabel')\n",
    "pl.ylabel('ylabel')\n",
    "pl.show()\n",
    "#5.5k PP = More retention"
   ]
  },
  {
   "cell_type": "code",
   "execution_count": 27,
   "metadata": {
    "collapsed": false
   },
   "outputs": [],
   "source": [
    "df = pd.read_csv(\"OSUDATA2.csv\")\n",
    "R = df.Rank\n",
    "NR = df.NationalRank\n",
    "ACC= df.Hitaccuracy\n",
    "TS = df.TotalScore\n",
    "RS = df.RankedScore\n",
    "TH = df.Totalhits\n",
    "PP = df.PP\n",
    "MC = df.MAXCombo\n",
    "PC = df.PlayCount\n",
    "LVL = df.Level\n",
    "IA = df.Inactive\n",
    "MP = df.MostPlays \n",
    "PT= df.PlayTime\n",
    "SS = df.SS\n",
    "S = df.S\n",
    "A = df.A\n",
    "\n",
    "\n",
    "\n",
    "x = [PP]\n",
    "y = [TS/RS]\n",
    "\n",
    "pl.plot(x, y, 'ro')\n",
    "# show the plot on the screen\n",
    "# Edit labels as necessary, eg PP as X label, Rank as Y Label\n",
    "pl.xlabel('xlabel')\n",
    "pl.ylabel('ylabel')\n",
    "pl.show()\n",
    "\n",
    "\"\"\">2 ratio = more likely retained\"\"\""
   ]
  }
 ],
 "metadata": {
  "kernelspec": {
   "display_name": "Python 3",
   "language": "python",
   "name": "python3"
  },
  "language_info": {
   "codemirror_mode": {
    "name": "ipython",
    "version": 3
   },
   "file_extension": ".py",
   "mimetype": "text/x-python",
   "name": "python",
   "nbconvert_exporter": "python",
   "pygments_lexer": "ipython3",
   "version": "3.5.0"
  }
 },
 "nbformat": 4,
 "nbformat_minor": 0
}
